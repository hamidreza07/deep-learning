{
 "cells": [
  {
   "cell_type": "code",
   "execution_count": 1,
   "metadata": {},
   "outputs": [],
   "source": [
    "import tensorflow as tf\n",
    "from tensorflow import keras\n",
    "import matplotlib.pyplot as plt\n",
    "import numpy as np\n",
    "import pandas as pd\n",
    "from sklearn.model_selection import train_test_split\n"
   ]
  },
  {
   "cell_type": "code",
   "execution_count": 2,
   "metadata": {},
   "outputs": [],
   "source": [
    "sentence=[\n",
    "    \"As it so contrasted oh estimating instrument.\",\n",
    "    \"As Size like body some one had.\",\n",
    "    \"Are conduct viewing boy minutes warrant expense.\"\n",
    "    \n",
    "]"
   ]
  },
  {
   "cell_type": "code",
   "execution_count": 3,
   "metadata": {},
   "outputs": [],
   "source": [
    "sentence2=[\"دوستت دارم\", \"می خواهم  تو را ببوسم\", \"تو از من متنفری\"]"
   ]
  },
  {
   "cell_type": "code",
   "execution_count": 4,
   "metadata": {},
   "outputs": [],
   "source": [
    "max_vocab_size=2000\n",
    "token=tf.keras.preprocessing.text.Tokenizer(num_words=max_vocab_size)\n",
    "token.fit_on_texts(sentence2)\n",
    "sequences=token.texts_to_sequences(sentence2)"
   ]
  },
  {
   "cell_type": "code",
   "execution_count": 5,
   "metadata": {},
   "outputs": [
    {
     "data": {
      "text/plain": [
       "[[2, 3], [4, 5, 1, 6, 7], [1, 8, 9, 10]]"
      ]
     },
     "execution_count": 5,
     "metadata": {},
     "output_type": "execute_result"
    }
   ],
   "source": [
    "sequences"
   ]
  },
  {
   "cell_type": "code",
   "execution_count": 6,
   "metadata": {},
   "outputs": [
    {
     "data": {
      "text/plain": [
       "{1: 'تو',\n",
       " 2: 'دوستت',\n",
       " 3: 'دارم',\n",
       " 4: 'می',\n",
       " 5: 'خواهم',\n",
       " 6: 'را',\n",
       " 7: 'ببوسم',\n",
       " 8: 'از',\n",
       " 9: 'من',\n",
       " 10: 'متنفری'}"
      ]
     },
     "execution_count": 6,
     "metadata": {},
     "output_type": "execute_result"
    }
   ],
   "source": [
    "token.index_word # show the number related to word:"
   ]
  },
  {
   "cell_type": "code",
   "execution_count": 7,
   "metadata": {},
   "outputs": [
    {
     "data": {
      "text/plain": [
       "array([[ 2,  3,  0,  0,  0,  0],\n",
       "       [ 4,  5,  1,  6,  7,  0],\n",
       "       [ 1,  8,  9, 10,  0,  0]])"
      ]
     },
     "execution_count": 7,
     "metadata": {},
     "output_type": "execute_result"
    }
   ],
   "source": [
    "data=tf.keras.preprocessing.sequence.pad_sequences(sequences,maxlen=6,padding='post') # padding='pre' > first of sequences\n",
    "data"
   ]
  },
  {
   "cell_type": "code",
   "execution_count": 8,
   "metadata": {},
   "outputs": [],
   "source": [
    "df=pd.read_csv(r'spam.csv',encoding='ISO-8859-1')\n",
    "df=df[['v1','v2']]"
   ]
  },
  {
   "cell_type": "code",
   "execution_count": 9,
   "metadata": {},
   "outputs": [],
   "source": [
    "df.columns=['labels','data']"
   ]
  },
  {
   "cell_type": "code",
   "execution_count": 10,
   "metadata": {},
   "outputs": [
    {
     "data": {
      "text/plain": [
       "labels    0\n",
       "data      0\n",
       "dtype: int64"
      ]
     },
     "execution_count": 10,
     "metadata": {},
     "output_type": "execute_result"
    }
   ],
   "source": [
    "df.isnull().sum()"
   ]
  },
  {
   "cell_type": "code",
   "execution_count": 11,
   "metadata": {},
   "outputs": [],
   "source": [
    "df['labels'], _ = df['labels'].factorize()"
   ]
  },
  {
   "cell_type": "code",
   "execution_count": 12,
   "metadata": {},
   "outputs": [],
   "source": [
    "Xtrain, Xtest, Ytrain, Ytest = train_test_split(df['data'], df['labels'].values, test_size=0.33, random_state=22) "
   ]
  },
  {
   "cell_type": "code",
   "execution_count": 13,
   "metadata": {},
   "outputs": [],
   "source": [
    "max_vocab_size=20000\n",
    "token=tf.keras.preprocessing.text.Tokenizer(num_words=max_vocab_size)\n",
    "token.fit_on_texts(Xtrain)\n",
    "sequences_train=token.texts_to_sequences(Xtrain)\n",
    "sequences_test=token.texts_to_sequences(Xtest)"
   ]
  },
  {
   "cell_type": "code",
   "execution_count": 24,
   "metadata": {},
   "outputs": [],
   "source": [
    "data_train=tf.keras.preprocessing.sequence.pad_sequences(sequences_train) # padding='pre' > first of sequences\n",
    "data_test=tf.keras.preprocessing.sequence.pad_sequences(sequences_test,maxlen=data_train.shape[1]) # padding='pre' > first of sequences\n"
   ]
  },
  {
   "cell_type": "code",
   "execution_count": 25,
   "metadata": {},
   "outputs": [
    {
     "data": {
      "text/plain": [
       "(3733, 189)"
      ]
     },
     "execution_count": 25,
     "metadata": {},
     "output_type": "execute_result"
    }
   ],
   "source": [
    "data_train.shape"
   ]
  },
  {
   "cell_type": "code",
   "execution_count": 26,
   "metadata": {},
   "outputs": [
    {
     "data": {
      "text/plain": [
       "7164"
      ]
     },
     "execution_count": 26,
     "metadata": {},
     "output_type": "execute_result"
    }
   ],
   "source": [
    "v=len(token.word_index)\n",
    "v"
   ]
  },
  {
   "cell_type": "code",
   "execution_count": 27,
   "metadata": {},
   "outputs": [
    {
     "name": "stdout",
     "output_type": "stream",
     "text": [
      "Model: \"model_1\"\n",
      "_________________________________________________________________\n",
      " Layer (type)                Output Shape              Param #   \n",
      "=================================================================\n",
      " input_2 (InputLayer)        [(None, 189)]             0         \n",
      "                                                                 \n",
      " embedding_1 (Embedding)     (None, 189, 20)           143300    \n",
      "                                                                 \n",
      " lstm_1 (LSTM)               (None, 189, 15)           2160      \n",
      "                                                                 \n",
      " global_max_pooling1d_1 (Glo  (None, 15)               0         \n",
      " balMaxPooling1D)                                                \n",
      "                                                                 \n",
      " dense_1 (Dense)             (None, 1)                 16        \n",
      "                                                                 \n",
      "=================================================================\n",
      "Total params: 145,476\n",
      "Trainable params: 145,476\n",
      "Non-trainable params: 0\n",
      "_________________________________________________________________\n"
     ]
    }
   ],
   "source": [
    "D=20 # is optional\n",
    "M=15 # is optional\n",
    "i=tf.keras.layers.Input(shape=data_train[1].shape)\n",
    "x=tf.keras.layers.Embedding(v+1,D)(i)\n",
    "x=tf.keras.layers.LSTM(M,return_sequences=True)(x)\n",
    "# you can set return_sequences to false and don’t use globalmaxpooling\n",
    "x=tf.keras.layers.GlobalMaxPooling1D()(x)\n",
    "x=tf.keras.layers.Dense(1,'sigmoid')(x)\n",
    "model=tf.keras.Model(i,x)\n",
    "model.summary()\n"
   ]
  },
  {
   "cell_type": "code",
   "execution_count": 28,
   "metadata": {},
   "outputs": [],
   "source": [
    "model.compile(optimizer=tf.keras.optimizers.Adam(),loss='binary_crossentropy',metrics=['accuracy'])\n",
    "history=model.fit(x=data_train,y=Ytrain,validation_data=(data_test,Ytest),epochs=10,verbose=2)"
   ]
  },
  {
   "cell_type": "code",
   "execution_count": 29,
   "metadata": {},
   "outputs": [
    {
     "name": "stdout",
     "output_type": "stream",
     "text": [
      "Epoch 1/10\n",
      "117/117 - 7s - loss: 0.4548 - accuracy: 0.8642 - val_loss: 0.3856 - val_accuracy: 0.8695 - 7s/epoch - 56ms/step\n",
      "Epoch 2/10\n",
      "117/117 - 4s - loss: 0.3851 - accuracy: 0.8642 - val_loss: 0.3464 - val_accuracy: 0.8695 - 4s/epoch - 37ms/step\n",
      "Epoch 3/10\n",
      "117/117 - 4s - loss: 0.2833 - accuracy: 0.8695 - val_loss: 0.1902 - val_accuracy: 0.9288 - 4s/epoch - 37ms/step\n",
      "Epoch 4/10\n",
      "117/117 - 4s - loss: 0.1138 - accuracy: 0.9834 - val_loss: 0.0935 - val_accuracy: 0.9804 - 4s/epoch - 38ms/step\n",
      "Epoch 5/10\n",
      "117/117 - 4s - loss: 0.0560 - accuracy: 0.9917 - val_loss: 0.0733 - val_accuracy: 0.9848 - 4s/epoch - 36ms/step\n",
      "Epoch 6/10\n",
      "117/117 - 4s - loss: 0.0364 - accuracy: 0.9944 - val_loss: 0.0609 - val_accuracy: 0.9848 - 4s/epoch - 36ms/step\n",
      "Epoch 7/10\n",
      "117/117 - 4s - loss: 0.0272 - accuracy: 0.9954 - val_loss: 0.0530 - val_accuracy: 0.9869 - 4s/epoch - 37ms/step\n",
      "Epoch 8/10\n",
      "117/117 - 4s - loss: 0.0187 - accuracy: 0.9971 - val_loss: 0.0515 - val_accuracy: 0.9875 - 4s/epoch - 37ms/step\n",
      "Epoch 9/10\n",
      "117/117 - 4s - loss: 0.0140 - accuracy: 0.9979 - val_loss: 0.0511 - val_accuracy: 0.9864 - 4s/epoch - 37ms/step\n",
      "Epoch 10/10\n",
      "117/117 - 4s - loss: 0.0100 - accuracy: 0.9989 - val_loss: 0.0495 - val_accuracy: 0.9859 - 4s/epoch - 38ms/step\n"
     ]
    }
   ],
   "source": [
    "history=model.fit(x=data_train,y=Ytrain,validation_data=(data_test,Ytest),epochs=10,verbose=2)\n"
   ]
  },
  {
   "cell_type": "code",
   "execution_count": 30,
   "metadata": {},
   "outputs": [
    {
     "data": {
      "image/png": "[encoded data removed]",
      "text/plain": [
       "<Figure size 640x480 with 1 Axes>"
      ]
     },
     "metadata": {},
     "output_type": "display_data"
    }
   ],
   "source": [
    "plt.plot(history.history['accuracy'],label='accuracy')\n",
    "plt.plot(history.history['val_accuracy'],label='val_accuracy')\n",
    "plt.show()"
   ]
  },
  {
   "cell_type": "code",
   "execution_count": 31,
   "metadata": {},
   "outputs": [
    {
     "data": {
      "image/png": "[encoded data removed]",
      "text/plain": [
       "<Figure size 640x480 with 1 Axes>"
      ]
     },
     "metadata": {},
     "output_type": "display_data"
    }
   ],
   "source": [
    "plt.plot(history.history['loss'],label='loss')\n",
    "plt.plot(history.history['val_loss'],label='val_loss')\n",
    "plt.show()"
   ]
  },
  {
   "cell_type": "code",
   "execution_count": 35,
   "metadata": {},
   "outputs": [
    {
     "name": "stdout",
     "output_type": "stream",
     "text": [
      "Model: \"model_5\"\n",
      "_________________________________________________________________\n",
      " Layer (type)                Output Shape              Param #   \n",
      "=================================================================\n",
      " input_6 (InputLayer)        [(None, 189)]             0         \n",
      "                                                                 \n",
      " embedding_5 (Embedding)     (None, 189, 20)           143300    \n",
      "                                                                 \n",
      " conv1d_9 (Conv1D)           (None, 187, 32)           1952      \n",
      "                                                                 \n",
      " max_pooling1d_2 (MaxPooling  (None, 62, 32)           0         \n",
      " 1D)                                                             \n",
      "                                                                 \n",
      " conv1d_10 (Conv1D)          (None, 60, 64)            6208      \n",
      "                                                                 \n",
      " max_pooling1d_3 (MaxPooling  (None, 20, 64)           0         \n",
      " 1D)                                                             \n",
      "                                                                 \n",
      " conv1d_11 (Conv1D)          (None, 18, 128)           24704     \n",
      "                                                                 \n",
      " global_max_pooling1d_4 (Glo  (None, 128)              0         \n",
      " balMaxPooling1D)                                                \n",
      "                                                                 \n",
      " dense_5 (Dense)             (None, 1)                 129       \n",
      "                                                                 \n",
      "=================================================================\n",
      "Total params: 176,293\n",
      "Trainable params: 176,293\n",
      "Non-trainable params: 0\n",
      "_________________________________________________________________\n"
     ]
    }
   ],
   "source": [
    "i = tf.keras.layers.Input(shape=data_train[1].shape)\n",
    "x = tf.keras.layers.Embedding (v + 1, D) (i) # output is T x D \n",
    "x = tf.keras.layers.Conv1D(32, 3, activation='relu')(x) # output is T* x M \n",
    "x = tf.keras.layers.MaxPooling1D(3)(x) \n",
    "x = tf.keras.layers.Conv1D(64, 3, activation='relu')(x) # output is T2 x M2 \n",
    "x = tf.keras.layers.MaxPooling1D(3)(x) \n",
    "x = tf.keras.layers.Conv1D(128, 3, activation='relu')(x) # output is T3 x M3 \n",
    "x = tf.keras.layers.GlobalMaxPooling1D()(x) # output is M3 \n",
    "x = tf.keras.layers.Dense(1, activation='sigmoid')(x) # output is 1 \n",
    "model=tf.keras.Model(i,x)\n",
    "model.summary()"
   ]
  },
  {
   "cell_type": "code",
   "execution_count": 36,
   "metadata": {},
   "outputs": [
    {
     "name": "stdout",
     "output_type": "stream",
     "text": [
      "Epoch 1/10\n",
      "117/117 - 2s - loss: 0.3854 - accuracy: 0.8591 - val_loss: 0.2187 - val_accuracy: 0.9103 - 2s/epoch - 17ms/step\n",
      "Epoch 2/10\n",
      "117/117 - 1s - loss: 0.0763 - accuracy: 0.9764 - val_loss: 0.0725 - val_accuracy: 0.9755 - 818ms/epoch - 7ms/step\n",
      "Epoch 3/10\n",
      "117/117 - 1s - loss: 0.0220 - accuracy: 0.9941 - val_loss: 0.0521 - val_accuracy: 0.9859 - 794ms/epoch - 7ms/step\n",
      "Epoch 4/10\n",
      "117/117 - 1s - loss: 0.0059 - accuracy: 0.9992 - val_loss: 0.0571 - val_accuracy: 0.9848 - 809ms/epoch - 7ms/step\n",
      "Epoch 5/10\n",
      "117/117 - 1s - loss: 0.0029 - accuracy: 0.9995 - val_loss: 0.0615 - val_accuracy: 0.9859 - 848ms/epoch - 7ms/step\n",
      "Epoch 6/10\n",
      "117/117 - 1s - loss: 0.0024 - accuracy: 0.9995 - val_loss: 0.0578 - val_accuracy: 0.9853 - 811ms/epoch - 7ms/step\n",
      "Epoch 7/10\n",
      "117/117 - 1s - loss: 0.0016 - accuracy: 0.9997 - val_loss: 0.0694 - val_accuracy: 0.9842 - 803ms/epoch - 7ms/step\n",
      "Epoch 8/10\n",
      "117/117 - 1s - loss: 0.0013 - accuracy: 0.9997 - val_loss: 0.0717 - val_accuracy: 0.9842 - 806ms/epoch - 7ms/step\n",
      "Epoch 9/10\n",
      "117/117 - 1s - loss: 9.4017e-04 - accuracy: 0.9997 - val_loss: 0.0688 - val_accuracy: 0.9853 - 800ms/epoch - 7ms/step\n",
      "Epoch 10/10\n",
      "117/117 - 1s - loss: 6.9648e-04 - accuracy: 0.9997 - val_loss: 0.0802 - val_accuracy: 0.9842 - 804ms/epoch - 7ms/step\n"
     ]
    }
   ],
   "source": [
    "model.compile(optimizer=tf.keras.optimizers.Adam(),loss='binary_crossentropy',metrics=['accuracy'])\n",
    "history=model.fit(x=data_train,y=Ytrain,validation_data=(data_test,Ytest),epochs=10,verbose=2)"
   ]
  },
  {
   "cell_type": "code",
   "execution_count": null,
   "metadata": {},
   "outputs": [],
   "source": []
  }
 ],
 "metadata": {
  "kernelspec": {
   "display_name": "tf",
   "language": "python",
   "name": "python3"
  },
  "language_info": {
   "codemirror_mode": {
    "name": "ipython",
    "version": 3
   },
   "file_extension": ".py",
   "mimetype": "text/x-python",
   "name": "python",
   "nbconvert_exporter": "python",
   "pygments_lexer": "ipython3",
   "version": "3.8.0"
  },
  "orig_nbformat": 4,
  "vscode": {
   "interpreter": {
    "hash": "7ac50e46548700ef92c0d638c51cf0201997f2d5ebcd38b9e8c620a8099eedcd"
   }
  }
 },
 "nbformat": 4,
 "nbformat_minor": 2
}
